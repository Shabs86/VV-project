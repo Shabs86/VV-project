{
 "metadata": {
  "language_info": {
   "codemirror_mode": {
    "name": "ipython",
    "version": 3
   },
   "file_extension": ".py",
   "mimetype": "text/x-python",
   "name": "python",
   "nbconvert_exporter": "python",
   "pygments_lexer": "ipython3",
   "version": 3
  },
  "orig_nbformat": 2
 },
 "nbformat": 4,
 "nbformat_minor": 2,
 "cells": [
  {
   "cell_type": "code",
   "execution_count": null,
   "metadata": {},
   "outputs": [],
   "source": [
    "## Libraries\n",
    "\n",
    "#import datashader as ds, pandas as pd\n",
    "#import datashader.transfer_functions as tf\n",
    "import rpy2\n",
    "import numpy as np\n",
    "import pandas as pd\n",
    "import scipy as sp\n",
    "#import datetime\n",
    "#import holoviews as hv\n",
    "#from holoviews import opts\n",
    "#hv.extension('bokeh')\n",
    "from PIL.Image import core as _imaging\n",
    "import os, sys\n",
    "from PIL import Image\n",
    "from matplotlib.backends.backend_pdf import PdfPages\n",
    "import matplotlib.pyplot as plt\n",
    "%matplotlib inline\n",
    "from IPython.core.interactiveshell import InteractiveShell\n",
    "InteractiveShell.ast_node_interactivity = \"all\"\n",
    "#yaml.warnings({'YAMLLoadWarning': False})"
   ]
  }
 ]
}